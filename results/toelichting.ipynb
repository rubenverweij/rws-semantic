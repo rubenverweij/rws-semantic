{
 "cells": [
  {
   "cell_type": "markdown",
   "source": [
    "<img src=\"img/datapreds.png\" alt=\"Drawing\" style=\"width: 200px;\"/>"
   ],
   "metadata": {
    "collapsed": false
   }
  },
  {
   "cell_type": "markdown",
   "source": [
    "# Toelichting resultaten"
   ],
   "metadata": {
    "collapsed": false
   }
  },
  {
   "cell_type": "markdown",
   "metadata": {},
   "source": [
    "De aangeleverde eisen worden stuk voor stuk omgezet in een multidimensionale vector van 384 elementen door een getrainde sentence encoder. Een zin wordt vertaald naar een getalreeks met 384 getallen. Deze getalreeksen kunnen met elkaar worden vergeleken door gebruik te maken van een euclidische afstandsfunctie."
   ]
  },
  {
   "cell_type": "markdown",
   "source": [
    "$\\sqrt{(a_1-b_1)^2 + (a_2-b_2)^2 + (a_3-b_3)^2}$"
   ],
   "metadata": {
    "collapsed": false
   }
  },
  {
   "cell_type": "markdown",
   "source": [
    "# Voorbeeld\n",
    "\n",
    "KES-0158 = Zo kort mogelijke hinder door afsluiting van brug van de Prinses Marijkesluis.\n",
    "\n",
    "MAS-0594 = Hinder door afsluiting van de brug over de Prinses Marijkesluis dient zo kort mogelijk te zijn.\n",
    "\n",
    "De vergelijkbaarheidscore van deze zinnen is 95%. Er zijn twee Excel bestanden met resultaten geleverd."
   ],
   "metadata": {
    "collapsed": false
   }
  },
  {
   "cell_type": "markdown",
   "source": [
    "## Result comparison matrix\n",
    "Bevat een grote tabel met alle vergelijkbaarheidscores van alle eisen onderling (0 = totaal niet vergelijkbaar, 1 = identieke betekenis).\n",
    "\n",
    "\n",
    "## Result similarity analysis\n",
    "Voor elke eis worden de 20 meest vergelijkbare eisen gepresenteerd in een \"long\" tabel formaat die bijvoorbeeld geïmporteerd kan worden in een eisensysteem.\n"
   ],
   "metadata": {
    "collapsed": false
   }
  },
  {
   "cell_type": "markdown",
   "source": [],
   "metadata": {
    "collapsed": false
   }
  },
  {
   "cell_type": "markdown",
   "source": [],
   "metadata": {
    "collapsed": false
   }
  }
 ],
 "metadata": {
  "kernelspec": {
   "display_name": "Python 3 (ipykernel)",
   "language": "python",
   "name": "python3"
  },
  "language_info": {
   "codemirror_mode": {
    "name": "ipython",
    "version": 3
   },
   "file_extension": ".py",
   "mimetype": "text/x-python",
   "name": "python",
   "nbconvert_exporter": "python",
   "pygments_lexer": "ipython3",
   "version": "3.10.6"
  }
 },
 "nbformat": 4,
 "nbformat_minor": 1
}
